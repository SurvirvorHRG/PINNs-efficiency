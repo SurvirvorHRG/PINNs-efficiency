{
 "cells": [
  {
   "attachments": {},
   "cell_type": "markdown",
   "metadata": {},
   "source": [
    "* If you're running this on Google Colab, please uncomment and run the cell below."
   ]
  },
  {
   "cell_type": "code",
   "execution_count": 7,
   "metadata": {},
   "outputs": [],
   "source": [
    "# !pip install optax\n",
    "# !pip install flax"
   ]
  },
  {
   "cell_type": "code",
   "execution_count": 8,
   "metadata": {
    "executionInfo": {
     "elapsed": 2,
     "status": "ok",
     "timestamp": 1660882519921,
     "user": {
      "displayName": "Seungtae Nam",
      "userId": "06693906068580730486"
     },
     "user_tz": -540
    },
    "id": "KoC-hLN4Oliv"
   },
   "outputs": [],
   "source": [
    "%matplotlib inline\n",
    "import os\n",
    "import time\n",
    "import jax\n",
    "import jax.numpy as jnp\n",
    "import optax\n",
    "import matplotlib.pyplot as plt\n",
    "from tqdm import trange\n",
    "from jax import jvp, value_and_grad\n",
    "from flax import linen as nn\n",
    "from typing import Sequence\n",
    "from functools import partial\n",
    "import numpy as np"
   ]
  },
  {
   "attachments": {},
   "cell_type": "markdown",
   "metadata": {
    "id": "lOqc5OoSN_5M"
   },
   "source": [
    "## 1. SPINN"
   ]
  },
  {
   "cell_type": "code",
   "execution_count": 9,
   "metadata": {
    "executionInfo": {
     "elapsed": 464,
     "status": "ok",
     "timestamp": 1660882524486,
     "user": {
      "displayName": "Seungtae Nam",
      "userId": "06693906068580730486"
     },
     "user_tz": -540
    },
    "id": "3lmf86_ON_5N"
   },
   "outputs": [],
   "source": [
    "# forward function\n",
    "class SPINN(nn.Module):\n",
    "    features: Sequence[int]\n",
    "\n",
    "    @nn.compact\n",
    "    def __call__(self, x, y, z):\n",
    "        inputs, outputs = [x, y, z], []\n",
    "        init = nn.initializers.glorot_normal()\n",
    "        for X in inputs:\n",
    "            for fs in self.features[:-1]:\n",
    "                X = nn.Dense(fs, kernel_init=init)(X)\n",
    "                X = nn.activation.tanh(X)\n",
    "            X = nn.Dense(self.features[-1], kernel_init=init)(X)\n",
    "            outputs += [jnp.transpose(X, (1, 0))]\n",
    "        xy = jnp.einsum('fx, fy->fxy', outputs[0], outputs[1])\n",
    "        return jnp.einsum('fxy, fz->xyz', xy, outputs[-1])\n",
    "\n",
    "\n",
    "# hessian-vector product\n",
    "def hvp_fwdfwd(f, primals, tangents, return_primals=False):\n",
    "    g = lambda primals: jvp(f, (primals,), tangents)[1]\n",
    "    primals_out, tangents_out = jvp(g, primals, tangents)\n",
    "    if return_primals:\n",
    "        return primals_out, tangents_out\n",
    "    else:\n",
    "        return tangents_out\n",
    "\n",
    "\n",
    "# loss function\n",
    "def spinn_loss_klein_gordon3d(apply_fn, *train_data):\n",
    "    def residual_loss(params, t, x, y, source_term):\n",
    "        # calculate u\n",
    "        u = apply_fn(params, t, x, y)\n",
    "        # tangent vector dx/dx\n",
    "        # assumes t, x, y have same shape (very important)\n",
    "        v = jnp.ones(t.shape)\n",
    "        # 2nd derivatives of u\n",
    "        \n",
    "        utt = hvp_fwdfwd(lambda t: apply_fn(params, t, x, y), (t,), (v,))\n",
    "        #uxx = hvp_fwdfwd(lambda x: apply_fn(params, t, x, y), (x,), (v,))\n",
    "        #uyy = hvp_fwdfwd(lambda y: apply_fn(params, t, x, y), (y,), (v,))\n",
    "        sum = 0.\n",
    "        idx = np.random.choice(2, 1, replace=False)\n",
    "        if idx == 0:\n",
    "            sum += hvp_fwdfwd(lambda x: apply_fn(params, t, x, y), (x,), (v,))\n",
    "        else:\n",
    "            sum += hvp_fwdfwd(lambda y: apply_fn(params, t, x, y), (y,), (v,))\n",
    "\n",
    "        return jnp.mean((utt - sum + u**2 - source_term)**2)\n",
    "\n",
    "    def initial_loss(params, t, x, y, u):\n",
    "        return jnp.mean((apply_fn(params, t, x, y) - u)**2)\n",
    "\n",
    "    def boundary_loss(params, t, x, y, u):\n",
    "        loss = 0.\n",
    "        for i in range(4):\n",
    "            loss += (1/4.) * jnp.mean((apply_fn(params, t[i], x[i], y[i]) - u[i])**2)\n",
    "        return loss\n",
    "\n",
    "    # unpack data\n",
    "    tc, xc, yc, uc, ti, xi, yi, ui, tb, xb, yb, ub = train_data\n",
    "\n",
    "    # isolate loss function from redundant arguments\n",
    "    fn = lambda params: residual_loss(params, tc, xc, yc, uc) + \\\n",
    "                        initial_loss(params, ti, xi, yi, ui) + \\\n",
    "                        boundary_loss(params, tb, xb, yb, ub)\n",
    "\n",
    "    return fn\n",
    "\n",
    "\n",
    "# optimizer step function\n",
    "@partial(jax.jit, static_argnums=(0,))\n",
    "def update_model(optim, gradient, params, state):\n",
    "    updates, state = optim.update(gradient, state)\n",
    "    params = optax.apply_updates(params, updates)\n",
    "    return params, state"
   ]
  },
  {
   "attachments": {},
   "cell_type": "markdown",
   "metadata": {
    "id": "y3OErz7bN_5O"
   },
   "source": [
    "## 2. Data generator"
   ]
  },
  {
   "cell_type": "code",
   "execution_count": 10,
   "metadata": {
    "executionInfo": {
     "elapsed": 343,
     "status": "ok",
     "timestamp": 1660882526334,
     "user": {
      "displayName": "Seungtae Nam",
      "userId": "06693906068580730486"
     },
     "user_tz": -540
    },
    "id": "VVY7wtfBN_5O"
   },
   "outputs": [],
   "source": [
    "# 2d time-dependent klein-gordon exact u\n",
    "def _klein_gordon3d_exact_u(t, x, y):\n",
    "    return (x + y) * jnp.cos(2*t) + (x * y) * jnp.sin(2*t)\n",
    "\n",
    "\n",
    "# 2d time-dependent klein-gordon source term\n",
    "def _klein_gordon3d_source_term(t, x, y):\n",
    "    u = _klein_gordon3d_exact_u(t, x, y)\n",
    "    return u**2 - 4*u\n",
    "\n",
    "\n",
    "# train data\n",
    "def spinn_train_generator_klein_gordon3d(nc, key):\n",
    "    keys = jax.random.split(key, 3)\n",
    "    # collocation points\n",
    "    tc = jax.random.uniform(keys[0], (nc, 1), minval=0., maxval=10.)\n",
    "    xc = jax.random.uniform(keys[1], (nc, 1), minval=-1., maxval=1.)\n",
    "    yc = jax.random.uniform(keys[2], (nc, 1), minval=-1., maxval=1.)\n",
    "    tc_mesh, xc_mesh, yc_mesh = jnp.meshgrid(tc.ravel(), xc.ravel(), yc.ravel(), indexing='ij')\n",
    "    uc = _klein_gordon3d_source_term(tc_mesh, xc_mesh, yc_mesh)\n",
    "    # initial points\n",
    "    ti = jnp.zeros((1, 1))\n",
    "    xi = xc\n",
    "    yi = yc\n",
    "    ti_mesh, xi_mesh, yi_mesh = jnp.meshgrid(ti.ravel(), xi.ravel(), yi.ravel(), indexing='ij')\n",
    "    ui = _klein_gordon3d_exact_u(ti_mesh, xi_mesh, yi_mesh)\n",
    "    # boundary points (hard-coded)\n",
    "    tb = [tc, tc, tc, tc]\n",
    "    xb = [jnp.array([[-1.]]), jnp.array([[1.]]), xc, xc]\n",
    "    yb = [yc, yc, jnp.array([[-1.]]), jnp.array([[1.]])]\n",
    "    ub = []\n",
    "    for i in range(4):\n",
    "        tb_mesh, xb_mesh, yb_mesh = jnp.meshgrid(tb[i].ravel(), xb[i].ravel(), yb[i].ravel(), indexing='ij')\n",
    "        ub += [_klein_gordon3d_exact_u(tb_mesh, xb_mesh, yb_mesh)]\n",
    "    return tc, xc, yc, uc, ti, xi, yi, ui, tb, xb, yb, ub\n",
    "\n",
    "\n",
    "# test data\n",
    "def spinn_test_generator_klein_gordon3d(nc_test):\n",
    "    t = jnp.linspace(0, 10, nc_test)\n",
    "    x = jnp.linspace(-1, 1, nc_test)\n",
    "    y = jnp.linspace(-1, 1, nc_test)\n",
    "    t = jax.lax.stop_gradient(t)\n",
    "    x = jax.lax.stop_gradient(x)\n",
    "    y = jax.lax.stop_gradient(y)\n",
    "    tm, xm, ym = jnp.meshgrid(t, x, y, indexing='ij')\n",
    "    u_gt = _klein_gordon3d_exact_u(tm, xm, ym)\n",
    "    t = t.reshape(-1, 1)\n",
    "    x = x.reshape(-1, 1)\n",
    "    y = y.reshape(-1, 1)\n",
    "    return t, x, y, u_gt, tm, xm, ym"
   ]
  },
  {
   "attachments": {},
   "cell_type": "markdown",
   "metadata": {
    "id": "wEWeH3ZFN_5P"
   },
   "source": [
    "## 3. Utils"
   ]
  },
  {
   "cell_type": "code",
   "execution_count": 11,
   "metadata": {
    "executionInfo": {
     "elapsed": 306,
     "status": "ok",
     "timestamp": 1660882528274,
     "user": {
      "displayName": "Seungtae Nam",
      "userId": "06693906068580730486"
     },
     "user_tz": -540
    },
    "id": "cLX1oaDUN_5P"
   },
   "outputs": [],
   "source": [
    "def relative_l2(u, u_gt):\n",
    "    return jnp.linalg.norm(u-u_gt) / jnp.linalg.norm(u_gt)\n",
    "\n",
    "def plot_klein_gordon3d(t, x, y, u):\n",
    "    fig = plt.figure(figsize=(6, 6))\n",
    "    ax = fig.add_subplot(111, projection='3d')\n",
    "    ax.scatter(t, x, y, c=u, s=0.5, cmap='seismic')\n",
    "    ax.set_title('U(t, x, y)', fontsize=20)\n",
    "    ax.set_xlabel('t', fontsize=18, labelpad=10)\n",
    "    ax.set_ylabel('x', fontsize=18, labelpad=10)\n",
    "    ax.set_zlabel('y', fontsize=18, labelpad=10)\n",
    "    plt.show()"
   ]
  },
  {
   "attachments": {},
   "cell_type": "markdown",
   "metadata": {
    "id": "9Q3WgLq_N_5P"
   },
   "source": [
    "## 4. Main function"
   ]
  },
  {
   "cell_type": "code",
   "execution_count": 12,
   "metadata": {
    "executionInfo": {
     "elapsed": 326,
     "status": "ok",
     "timestamp": 1660882530315,
     "user": {
      "displayName": "Seungtae Nam",
      "userId": "06693906068580730486"
     },
     "user_tz": -540
    },
    "id": "VHtJazHuN_5Q"
   },
   "outputs": [],
   "source": [
    "def main(NC, NI, NB, NC_TEST, SEED, LR, EPOCHS, N_LAYERS, FEATURES, LOG_ITER):\n",
    "    # force jax to use one device\n",
    "    os.environ[\"CUDA_VISIBLE_DEVICES\"]=\"0\"\n",
    "    os.environ[\"XLA_PYTHON_CLIENT_PREALLOCATE\"]=\"false\"\n",
    "\n",
    "    # random key\n",
    "    key = jax.random.PRNGKey(SEED)\n",
    "    key, subkey = jax.random.split(key, 2)\n",
    "\n",
    "    # feature sizes\n",
    "    feat_sizes = tuple(FEATURES for _ in range(N_LAYERS))\n",
    "\n",
    "    # make & init model\n",
    "    model = SPINN(feat_sizes)\n",
    "    params = model.init(subkey, jnp.ones((NC, 1)), jnp.ones((NC, 1)), jnp.ones((NC, 1)))\n",
    "\n",
    "    # optimizer\n",
    "    optim = optax.adam(LR)\n",
    "    state = optim.init(params)\n",
    "\n",
    "    # dataset\n",
    "    key, subkey = jax.random.split(key, 2)\n",
    "    train_data = spinn_train_generator_klein_gordon3d(NC, subkey)\n",
    "    t, x, y, u_gt, tm, xm, ym = spinn_test_generator_klein_gordon3d(NC_TEST)\n",
    "\n",
    "    # forward & loss function\n",
    "    apply_fn = jax.jit(model.apply)\n",
    "    loss_fn = spinn_loss_klein_gordon3d(apply_fn, *train_data)\n",
    "\n",
    "    @jax.jit\n",
    "    def train_one_step(params, state):\n",
    "        # compute loss and gradient\n",
    "        loss, gradient = value_and_grad(loss_fn)(params)\n",
    "        # update state\n",
    "        params, state = update_model(optim, gradient, params, state)\n",
    "        return loss, params, state\n",
    "    \n",
    "    start = time.time()\n",
    "    for e in trange(1, EPOCHS+1):\n",
    "        # single run\n",
    "        loss, params, state = train_one_step(params, state)\n",
    "        if e % LOG_ITER == 0:\n",
    "            u = apply_fn(params, t, x, y)\n",
    "            error = relative_l2(u, u_gt)\n",
    "            print(f'Epoch: {e}/{EPOCHS} --> loss: {loss:.8f}, error: {error:.8f}')\n",
    "    end = time.time()\n",
    "    print(f'Runtime: {((end-start)/EPOCHS*1000):.2f} ms/iter.')\n",
    "    \"\"\"\n",
    "    print('Solution:')\n",
    "    u = apply_fn(params, t, x, y)\n",
    "    plot_klein_gordon3d(tm, xm, ym, u)\"\n",
    "    \"\"\""
   ]
  },
  {
   "attachments": {},
   "cell_type": "markdown",
   "metadata": {
    "id": "eCdzoogAN_5Q"
   },
   "source": [
    "## 5. Run!"
   ]
  },
  {
   "cell_type": "code",
   "execution_count": 13,
   "metadata": {
    "colab": {
     "base_uri": "https://localhost:8080/",
     "height": 448
    },
    "executionInfo": {
     "elapsed": 159365,
     "status": "ok",
     "timestamp": 1660882219515,
     "user": {
      "displayName": "Seungtae Nam",
      "userId": "06693906068580730486"
     },
     "user_tz": -540
    },
    "id": "j-DGXwqYN_5Q",
    "outputId": "2a4e9df1-378f-460e-cb99-70613412a8da"
   },
   "outputs": [
    {
     "name": "stderr",
     "output_type": "stream",
     "text": [
      " 15%|█▍        | 148/1000 [00:02<00:08, 101.34it/s]"
     ]
    },
    {
     "name": "stdout",
     "output_type": "stream",
     "text": [
      "Epoch: 100/1000 --> loss: 6.83505583, error: 1.13039434\n"
     ]
    },
    {
     "name": "stderr",
     "output_type": "stream",
     "text": [
      " 25%|██▍       | 247/1000 [00:03<00:05, 144.54it/s]"
     ]
    },
    {
     "name": "stdout",
     "output_type": "stream",
     "text": [
      "Epoch: 200/1000 --> loss: 6.11294270, error: 1.06052303\n"
     ]
    },
    {
     "name": "stderr",
     "output_type": "stream",
     "text": [
      " 35%|███▍      | 348/1000 [00:04<00:04, 156.29it/s]"
     ]
    },
    {
     "name": "stdout",
     "output_type": "stream",
     "text": [
      "Epoch: 300/1000 --> loss: 5.10085773, error: 1.01395929\n"
     ]
    },
    {
     "name": "stderr",
     "output_type": "stream",
     "text": [
      " 45%|████▍     | 448/1000 [00:04<00:03, 156.92it/s]"
     ]
    },
    {
     "name": "stdout",
     "output_type": "stream",
     "text": [
      "Epoch: 400/1000 --> loss: 6.27892780, error: 1.10104990\n"
     ]
    },
    {
     "name": "stderr",
     "output_type": "stream",
     "text": [
      " 54%|█████▍    | 544/1000 [00:05<00:02, 155.63it/s]"
     ]
    },
    {
     "name": "stdout",
     "output_type": "stream",
     "text": [
      "Epoch: 500/1000 --> loss: 5.63974142, error: 1.05256438\n"
     ]
    },
    {
     "name": "stderr",
     "output_type": "stream",
     "text": [
      " 65%|██████▍   | 647/1000 [00:06<00:02, 163.46it/s]"
     ]
    },
    {
     "name": "stdout",
     "output_type": "stream",
     "text": [
      "Epoch: 600/1000 --> loss: 7.76569891, error: 1.01449072\n"
     ]
    },
    {
     "name": "stderr",
     "output_type": "stream",
     "text": [
      " 75%|███████▍  | 748/1000 [00:06<00:01, 159.30it/s]"
     ]
    },
    {
     "name": "stdout",
     "output_type": "stream",
     "text": [
      "Epoch: 700/1000 --> loss: 6.54629803, error: 1.08153558\n"
     ]
    },
    {
     "name": "stderr",
     "output_type": "stream",
     "text": [
      " 85%|████████▍ | 847/1000 [00:07<00:00, 160.25it/s]"
     ]
    },
    {
     "name": "stdout",
     "output_type": "stream",
     "text": [
      "Epoch: 800/1000 --> loss: 6.03822231, error: 1.08760190\n"
     ]
    },
    {
     "name": "stderr",
     "output_type": "stream",
     "text": [
      " 95%|█████████▍| 947/1000 [00:08<00:00, 161.70it/s]"
     ]
    },
    {
     "name": "stdout",
     "output_type": "stream",
     "text": [
      "Epoch: 900/1000 --> loss: 5.80373001, error: 1.08995795\n"
     ]
    },
    {
     "name": "stderr",
     "output_type": "stream",
     "text": [
      "100%|██████████| 1000/1000 [00:08<00:00, 112.39it/s]"
     ]
    },
    {
     "name": "stdout",
     "output_type": "stream",
     "text": [
      "Epoch: 1000/1000 --> loss: 5.61518288, error: 1.07676148\n",
      "Runtime: 8.91 ms/iter.\n"
     ]
    },
    {
     "name": "stderr",
     "output_type": "stream",
     "text": [
      "\n"
     ]
    }
   ],
   "source": [
    "main(NC=64, NI=64, NB=64, NC_TEST=100, SEED=444, LR=1e-3, EPOCHS=1000, N_LAYERS=4, FEATURES=64, LOG_ITER=100)"
   ]
  },
  {
   "cell_type": "code",
   "execution_count": null,
   "metadata": {},
   "outputs": [],
   "source": []
  }
 ],
 "metadata": {
  "accelerator": "GPU",
  "colab": {
   "collapsed_sections": [],
   "name": "spinn_demo.ipynb",
   "provenance": []
  },
  "gpuClass": "standard",
  "kernelspec": {
   "display_name": "base",
   "language": "python",
   "name": "python3"
  },
  "language_info": {
   "codemirror_mode": {
    "name": "ipython",
    "version": 3
   },
   "file_extension": ".py",
   "mimetype": "text/x-python",
   "name": "python",
   "nbconvert_exporter": "python",
   "pygments_lexer": "ipython3",
   "version": "3.11.7"
  },
  "orig_nbformat": 4
 },
 "nbformat": 4,
 "nbformat_minor": 0
}
